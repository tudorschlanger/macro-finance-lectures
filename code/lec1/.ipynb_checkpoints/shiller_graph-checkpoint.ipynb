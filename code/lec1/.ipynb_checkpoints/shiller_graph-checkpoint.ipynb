{
 "cells": [
  {
   "cell_type": "code",
   "execution_count": 1,
   "id": "e98b0545-fd72-4b99-8ebd-baa2b50da9f5",
   "metadata": {},
   "outputs": [
    {
     "name": "stderr",
     "output_type": "stream",
     "text": [
      "Installing package into 'C:/Users/ts2934/Documents/R/win-library/4.1'\n",
      "(as 'lib' is unspecified)\n",
      "\n"
     ]
    },
    {
     "name": "stdout",
     "output_type": "stream",
     "text": [
      "package 'here' successfully unpacked and MD5 sums checked\n",
      "\n",
      "The downloaded binary packages are in\n",
      "\tC:\\Users\\ts2934\\AppData\\Local\\Temp\\Rtmp2Lae7u\\downloaded_packages\n"
     ]
    },
    {
     "name": "stderr",
     "output_type": "stream",
     "text": [
      "here() starts at C:/Users/ts2934/git/macro-finance-lectures\n",
      "\n"
     ]
    }
   ],
   "source": [
    "## Install packages\n",
    "install.packages(\"here\")    \n",
    "library(here)"
   ]
  },
  {
   "cell_type": "code",
   "execution_count": 2,
   "id": "a06a814c-1c80-4ee0-ac6e-193f85987121",
   "metadata": {},
   "outputs": [
    {
     "data": {
      "text/html": [
       "'C:/Users/ts2934/git/macro-finance-lectures'"
      ],
      "text/latex": [
       "'C:/Users/ts2934/git/macro-finance-lectures'"
      ],
      "text/markdown": [
       "'C:/Users/ts2934/git/macro-finance-lectures'"
      ],
      "text/plain": [
       "[1] \"C:/Users/ts2934/git/macro-finance-lectures\""
      ]
     },
     "metadata": {},
     "output_type": "display_data"
    }
   ],
   "source": [
    "here()"
   ]
  },
  {
   "cell_type": "code",
   "execution_count": 24,
   "id": "5dfae1ed-ac37-4202-9168-41f94742f96a",
   "metadata": {},
   "outputs": [
    {
     "data": {
      "text/html": [
       "<ol>\n",
       "\t<li>NULL</li>\n",
       "\t<li>NULL</li>\n",
       "\t<li>NULL</li>\n",
       "\t<li>NULL</li>\n",
       "</ol>\n"
      ],
      "text/latex": [
       "\\begin{enumerate}\n",
       "\\item NULL\n",
       "\\item NULL\n",
       "\\item NULL\n",
       "\\item NULL\n",
       "\\end{enumerate}\n"
      ],
      "text/markdown": [
       "1. NULL\n",
       "2. NULL\n",
       "3. NULL\n",
       "4. NULL\n",
       "\n",
       "\n"
      ],
      "text/plain": [
       "[[1]]\n",
       "NULL\n",
       "\n",
       "[[2]]\n",
       "NULL\n",
       "\n",
       "[[3]]\n",
       "NULL\n",
       "\n",
       "[[4]]\n",
       "NULL\n"
      ]
     },
     "metadata": {},
     "output_type": "display_data"
    }
   ],
   "source": [
    "packages <- c(\"ggplot2\", \"tidyverse\", \"readstata13\", \"stringr\")\n",
    "\n",
    "source(here(\"src/check_packages.r\"))\n",
    "check_packages(packages) # Check whether packages are installed already and load them "
   ]
  },
  {
   "cell_type": "code",
   "execution_count": 7,
   "id": "eb8f1df2-61b2-427d-ad46-4e92f90597bf",
   "metadata": {},
   "outputs": [
    {
     "data": {
      "text/html": [
       "<table class=\"dataframe\">\n",
       "<caption>A data.frame: 6 × 2</caption>\n",
       "<thead>\n",
       "\t<tr><th></th><th scope=col>Date</th><th scope=col>Value</th></tr>\n",
       "\t<tr><th></th><th scope=col>&lt;date&gt;</th><th scope=col>&lt;dbl&gt;</th></tr>\n",
       "</thead>\n",
       "<tbody>\n",
       "\t<tr><th scope=row>1</th><td>2021-06-30</td><td>58.14</td></tr>\n",
       "\t<tr><th scope=row>2</th><td>2021-03-31</td><td>58.11</td></tr>\n",
       "\t<tr><th scope=row>3</th><td>2020-12-31</td><td>61.08</td></tr>\n",
       "\t<tr><th scope=row>4</th><td>2020-09-30</td><td>58.84</td></tr>\n",
       "\t<tr><th scope=row>5</th><td>2020-06-30</td><td>59.99</td></tr>\n",
       "\t<tr><th scope=row>6</th><td>2020-03-31</td><td>59.18</td></tr>\n",
       "</tbody>\n",
       "</table>\n"
      ],
      "text/latex": [
       "A data.frame: 6 × 2\n",
       "\\begin{tabular}{r|ll}\n",
       "  & Date & Value\\\\\n",
       "  & <date> & <dbl>\\\\\n",
       "\\hline\n",
       "\t1 & 2021-06-30 & 58.14\\\\\n",
       "\t2 & 2021-03-31 & 58.11\\\\\n",
       "\t3 & 2020-12-31 & 61.08\\\\\n",
       "\t4 & 2020-09-30 & 58.84\\\\\n",
       "\t5 & 2020-06-30 & 59.99\\\\\n",
       "\t6 & 2020-03-31 & 59.18\\\\\n",
       "\\end{tabular}\n"
      ],
      "text/markdown": [
       "\n",
       "A data.frame: 6 × 2\n",
       "\n",
       "| <!--/--> | Date &lt;date&gt; | Value &lt;dbl&gt; |\n",
       "|---|---|---|\n",
       "| 1 | 2021-06-30 | 58.14 |\n",
       "| 2 | 2021-03-31 | 58.11 |\n",
       "| 3 | 2020-12-31 | 61.08 |\n",
       "| 4 | 2020-09-30 | 58.84 |\n",
       "| 5 | 2020-06-30 | 59.99 |\n",
       "| 6 | 2020-03-31 | 59.18 |\n",
       "\n"
      ],
      "text/plain": [
       "  Date       Value\n",
       "1 2021-06-30 58.14\n",
       "2 2021-03-31 58.11\n",
       "3 2020-12-31 61.08\n",
       "4 2020-09-30 58.84\n",
       "5 2020-06-30 59.99\n",
       "6 2020-03-31 59.18"
      ]
     },
     "metadata": {},
     "output_type": "display_data"
    },
    {
     "data": {
      "text/html": [
       "<table class=\"dataframe\">\n",
       "<caption>A data.frame: 6 × 2</caption>\n",
       "<thead>\n",
       "\t<tr><th></th><th scope=col>Date</th><th scope=col>Value</th></tr>\n",
       "\t<tr><th></th><th scope=col>&lt;date&gt;</th><th scope=col>&lt;dbl&gt;</th></tr>\n",
       "</thead>\n",
       "<tbody>\n",
       "\t<tr><th scope=row>1</th><td>2021-09-01</td><td>4524.09</td></tr>\n",
       "\t<tr><th scope=row>2</th><td>2021-08-31</td><td>4522.68</td></tr>\n",
       "\t<tr><th scope=row>3</th><td>2021-07-01</td><td>4319.94</td></tr>\n",
       "\t<tr><th scope=row>4</th><td>2021-06-30</td><td>4297.50</td></tr>\n",
       "\t<tr><th scope=row>5</th><td>2021-06-01</td><td>4202.04</td></tr>\n",
       "\t<tr><th scope=row>6</th><td>2021-04-30</td><td>4181.17</td></tr>\n",
       "</tbody>\n",
       "</table>\n"
      ],
      "text/latex": [
       "A data.frame: 6 × 2\n",
       "\\begin{tabular}{r|ll}\n",
       "  & Date & Value\\\\\n",
       "  & <date> & <dbl>\\\\\n",
       "\\hline\n",
       "\t1 & 2021-09-01 & 4524.09\\\\\n",
       "\t2 & 2021-08-31 & 4522.68\\\\\n",
       "\t3 & 2021-07-01 & 4319.94\\\\\n",
       "\t4 & 2021-06-30 & 4297.50\\\\\n",
       "\t5 & 2021-06-01 & 4202.04\\\\\n",
       "\t6 & 2021-04-30 & 4181.17\\\\\n",
       "\\end{tabular}\n"
      ],
      "text/markdown": [
       "\n",
       "A data.frame: 6 × 2\n",
       "\n",
       "| <!--/--> | Date &lt;date&gt; | Value &lt;dbl&gt; |\n",
       "|---|---|---|\n",
       "| 1 | 2021-09-01 | 4524.09 |\n",
       "| 2 | 2021-08-31 | 4522.68 |\n",
       "| 3 | 2021-07-01 | 4319.94 |\n",
       "| 4 | 2021-06-30 | 4297.50 |\n",
       "| 5 | 2021-06-01 | 4202.04 |\n",
       "| 6 | 2021-04-30 | 4181.17 |\n",
       "\n"
      ],
      "text/plain": [
       "  Date       Value  \n",
       "1 2021-09-01 4524.09\n",
       "2 2021-08-31 4522.68\n",
       "3 2021-07-01 4319.94\n",
       "4 2021-06-30 4297.50\n",
       "5 2021-06-01 4202.04\n",
       "6 2021-04-30 4181.17"
      ]
     },
     "metadata": {},
     "output_type": "display_data"
    }
   ],
   "source": [
    "# Load and inspect data \n",
    "path_data <- here(\"data/\")\n",
    "div_raw   <- readRDS(file = here(path_data, \"sp500_dividends.rds\")) \n",
    "price_raw <- readRDS(file = here(path_data, \"sp500_prices.rds\"))\n",
    "\n",
    "head(div_raw)\n",
    "head(price_raw)"
   ]
  },
  {
   "cell_type": "code",
   "execution_count": 11,
   "id": "9f3e773f-aca9-4cd3-b203-7f20b5819eee",
   "metadata": {},
   "outputs": [],
   "source": [
    "# Some initial settings \n",
    "curr_year   <- as.double(format(Sys.Date(), \"%Y\")) # don't change this\n",
    "first_year  <- 1871\n",
    "last_year   <- 1979  # can be different from current year, but must be larger than first year\n",
    "          "
   ]
  },
  {
   "cell_type": "code",
   "execution_count": 12,
   "id": "e2730b10-0b45-48d5-bf92-7b9c950f129f",
   "metadata": {},
   "outputs": [
    {
     "name": "stderr",
     "output_type": "stream",
     "text": [
      "Adding missing grouping variables: `year`\n",
      "\n",
      "Adding missing grouping variables: `year`\n",
      "\n"
     ]
    }
   ],
   "source": [
    "########### DATA PREP #################\n",
    "# Read data first\n",
    "div   <- div_raw\n",
    "price <- price_raw\n",
    "\n",
    "# Prep data: Dividends\n",
    "div$month <- as.double(format(div$Date, \"%m\"))\n",
    "div$year <- as.double(format(div$Date, \"%Y\"))\n",
    "div <- subset(div, (year <= last_year & year >= first_year))\n",
    "div <- div[order(div$Date), ]\n",
    "div <- div %>%  # There may be multiple observations per year - we will choose the first observation of every year \n",
    "    group_by(year) %>%\n",
    "    filter(row_number() == 1)\n",
    "div$Date <- format(div$Date,\"%Y\")\n",
    "div <- div %>% rename(div = Value) %>% select(-c(\"month\", \"year\"))\n",
    "\n",
    "# Prep data: Prices\n",
    "price$month <- as.double(format(price$Date, \"%m\"))\n",
    "price$year <- as.double(format(price$Date, \"%Y\"))\n",
    "price$day <- as.double(format(price$Date, \"%d\"))\n",
    "price <- subset(price, (year <= last_year & year >= first_year))\n",
    "price <- price[order(price$Date), ]\n",
    "price <- price %>%  # There may be multiple observations per year so we need to choose the last observation of every year \n",
    "         group_by(year) %>%\n",
    "         filter(row_number() == 1)\n",
    "\n",
    "price$Date <- format(price$Date,\"%Y\")\n",
    "price <- price %>% rename(price = Value)\n",
    "price <- price %>% select(-c(\"day\", \"month\", \"year\"))\n",
    "\n",
    "## Add interest rates from JST database (not required for the Shiller graph)\n",
    "rawdata <- read.dta13(here(path_data, \"JSTdatasetR5.dta\"))\n",
    "myvars <- c(\"year\", \"country\", \"cpi\", \n",
    "            \"stir\",  # short-term gov bills\n",
    "            \"ltrate\" # long-term gov bonds\n",
    ")\n",
    "rates <- rawdata[rawdata$country == \"USA\", myvars]\n",
    "rates <- rates %>% \n",
    "        rename(Date = year)  %>% \n",
    "        mutate(Date = as.character(Date),\n",
    "               stir = stir/100,\n",
    "               ltrate = ltrate/100)\n",
    "\n",
    "## Merging and indexing\n",
    "df <- left_join(div, price, by = \"Date\")\n",
    "df <- left_join(df, rates, by = \"Date\")\n",
    "\n",
    "df$Date <- as.Date(df$Date, format = \"%Y\")\n",
    "df$year <- as.double(format(df$Date, \"%Y\"))\n",
    "df <- df[order(df$year), ] # Note: the data must be ordered in increasing order of time for the Shiller algo to work \n",
    "\n",
    "df <- df %>%\n",
    "        mutate(div_index   = div/div[year == first_year]*100) %>%\n",
    "        mutate(price_index = price/price[year == first_year]*100) %>%\n",
    "        mutate(infl = (cpi/lag(cpi, 1) - 1)) %>%             # inflation defined as growth in yearly CPI inflation \n",
    "        mutate(stir_real = (1 + stir) / (1 + infl) - 1) %>%  # deflate nominal shot-term interest rates\n",
    "        mutate(ltrate_real = (1 + ltrate) / (1 + infl) - 1) %>% # deflate nominal long-term interest rates\n",
    "        mutate(price_div_ratio = price / div,\n",
    "               div_price_ratio = div / price) %>%\n",
    "        mutate(price_lead5 = lead(price, n = 5),\n",
    "            annual_return_5yr = (price_lead5/price)^(1/5) - 1,   # real annual returns\n",
    "            annual_return_5yr_minus_stir = annual_return_5yr - stir_real,  \n",
    "            annual_return_5yr_minus_ltrate = annual_return_5yr - ltrate_real, \n",
    "            year = as.double(format(Date, \"%Y\")),\n",
    "            ) %>%\n",
    "        mutate(return_5yr = (1 + annual_return_5yr)^5 - 1,       # real returns over the whole period\n",
    "               return_5yr_minus_stir = (1 + annual_return_5yr_minus_stir)^5 - 1,\n",
    "               return_5yr_minus_ltrate = (1 + annual_return_5yr_minus_ltrate)^5 - 1)\n",
    "\n"
   ]
  },
  {
   "cell_type": "code",
   "execution_count": 16,
   "id": "a0d814b1-1efd-4db7-bb20-aec347cdba5f",
   "metadata": {},
   "outputs": [
    {
     "data": {
      "text/html": [
       "0.046164191704224"
      ],
      "text/latex": [
       "0.046164191704224"
      ],
      "text/markdown": [
       "0.046164191704224"
      ],
      "text/plain": [
       "[1] 0.04616419"
      ]
     },
     "metadata": {},
     "output_type": "display_data"
    }
   ],
   "source": [
    "## Shiller method of detrending data and constructing PV of dividends\n",
    "\n",
    "# Compute long run exponential growth rate (last observation - first observation)\n",
    "g <- (df[df$year==last_year, \"price\"] / df[df$year==first_year, \"price\"]) ^ (1/(nrow(df)-1)) - 1\n",
    "\n",
    "# Detrend prices\n",
    "df$price_detrended <- df$price\n",
    "for (i in 1:nrow(df)) {\n",
    "    df[i, \"price_detrended\"] <- df[i, \"price_detrended\"] / (1+g)^(i-nrow(df))\n",
    "}\n",
    "\n",
    "# Detrend dividends\n",
    "df$div_detrended <- df$div\n",
    "for (i in 1:nrow(df)) {\n",
    "    df[i, \"div_detrended\"] <- df[i, \"div_detrended\"] / (1+g)^(i-nrow(df))\n",
    "}\n",
    "\n",
    "# Compute constant discount rate as the mean yield of stocks over chosen period\n",
    "r <- mean(df$div_detrended) / mean(df$price_detrended)\n",
    "\n",
    "# Set terminal price \n",
    "tp <- mean(df$price_detrended)\n",
    "\n",
    "# Compute fundamental values\n",
    "df$p_star <- df$price_detrended\n",
    "df[nrow(df),\"p_star\"] <- tp\n",
    "for (i in (nrow(df)-1):1) { \n",
    "    df[i,\"p_star\"] = (df[i+1,\"p_star\"] + df[i,\"div_detrended\"]) / (1 + r)\n",
    "}\n"
   ]
  },
  {
   "cell_type": "code",
   "execution_count": 17,
   "id": "30a95795-e762-42fb-81d8-47dc0fe899c3",
   "metadata": {},
   "outputs": [
    {
     "data": {
      "image/png": "[encoded data removed]",
      "text/plain": [
       "plot without title"
      ]
     },
     "metadata": {
      "image/png": {
       "height": 420,
       "width": 420
      }
     },
     "output_type": "display_data"
    }
   ],
   "source": [
    "## PLOTTING Shiller graph\n",
    "# load the formatting and saving settings from another script\n",
    "source(here(\"src/format_plots.r\"))\n",
    "source(here(\"src/save_plots.r\"))\n",
    "\n",
    "if (last_year - first_year <= 60) {\n",
    "    xticks = 10\n",
    "} else {\n",
    "    xticks = 20\n",
    "}\n",
    "xlimits <- c(as.double(first_year), as.double(format(Sys.Date(), \"%Y\")))\n",
    "\n",
    "# Wide to long format (better for ggplot)\n",
    "df_tmp <- df %>%\n",
    "           select(c(\"price_detrended\", \"p_star\", \"year\")) %>%\n",
    "           pivot_longer(c(\"price_detrended\", \"p_star\"), names_to = \"series\", values_to = \"value\") \n",
    "df_tmp$series <- gsub(\"price_detrended\", \"Actual\", df_tmp$series, fixed = TRUE)\n",
    "df_tmp$series <- gsub(\"p_star\", \"Expected\", df_tmp$series, fixed = TRUE)\n",
    "\n",
    "ggplot(data = df_tmp, aes(x = year, y = value)) +\n",
    "    geom_line(aes(color = series, linetype = series), size = 2) +\n",
    "    scale_x_continuous(breaks=seq(xlimits[1], xlimits[2], xticks)) +\n",
    "    labs(y = \"\", x = \"\", title = \"\") + \n",
    "    format +\n",
    "    scale_linetype_manual(values = c(\"solid\", \"dotdash\")) +\n",
    "    scale_color_manual(values = c(purple, green))\n"
   ]
  },
  {
   "cell_type": "code",
   "execution_count": 23,
   "id": "de56d136-3cd1-47fd-9b47-d7b275a03dcc",
   "metadata": {},
   "outputs": [],
   "source": [
    "## Compare with the original plot \n",
    "## \"https://2.bp.blogspot.com/-OG60TWSLCwE/Ul3o0pChdrI/AAAAAAAAAkg/uE2vGx8TarY/s1600/Shiller.PNG\""
   ]
  },
  {
   "cell_type": "code",
   "execution_count": null,
   "id": "5b3bdcdf-04fa-423f-8470-f988f1cc9dcd",
   "metadata": {},
   "outputs": [],
   "source": []
  }
 ],
 "metadata": {
  "kernelspec": {
   "display_name": "R",
   "language": "R",
   "name": "ir"
  },
  "language_info": {
   "codemirror_mode": "r",
   "file_extension": ".r",
   "mimetype": "text/x-r-source",
   "name": "R",
   "pygments_lexer": "r",
   "version": "4.1.1"
  }
 },
 "nbformat": 4,
 "nbformat_minor": 5
}
